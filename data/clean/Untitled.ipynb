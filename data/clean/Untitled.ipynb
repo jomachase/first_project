{
 "cells": [
  {
   "cell_type": "code",
   "execution_count": 1,
   "id": "16d7efbc-c66e-4b2e-bca3-a1f7e6eae160",
   "metadata": {},
   "outputs": [
    {
     "ename": "ModuleNotFoundError",
     "evalue": "No module named 'sqlalchemy'",
     "output_type": "error",
     "traceback": [
      "\u001b[31m---------------------------------------------------------------------------\u001b[39m",
      "\u001b[31mModuleNotFoundError\u001b[39m                       Traceback (most recent call last)",
      "\u001b[36mCell\u001b[39m\u001b[36m \u001b[39m\u001b[32mIn[1]\u001b[39m\u001b[32m, line 1\u001b[39m\n\u001b[32m----> \u001b[39m\u001b[32m1\u001b[39m \u001b[38;5;28;01mfrom\u001b[39;00m\u001b[38;5;250m \u001b[39m\u001b[34;01msqlalchemy\u001b[39;00m\u001b[38;5;250m \u001b[39m\u001b[38;5;28;01mimport\u001b[39;00m create_engine, text\n\u001b[32m      3\u001b[39m DB_USER = \u001b[33m\"\u001b[39m\u001b[33mroot\u001b[39m\u001b[33m\"\u001b[39m          \u001b[38;5;66;03m# <-- your MySQL user\u001b[39;00m\n\u001b[32m      4\u001b[39m DB_PASS = \u001b[33m\"\u001b[39m\u001b[33mYOUR_PASSWORD\u001b[39m\u001b[33m\"\u001b[39m \u001b[38;5;66;03m# <-- your password\u001b[39;00m\n",
      "\u001b[31mModuleNotFoundError\u001b[39m: No module named 'sqlalchemy'"
     ]
    }
   ],
   "source": [
    "from sqlalchemy import create_engine, text\n",
    "\n",
    "DB_USER = \"root\"          # <-- your MySQL user\n",
    "DB_PASS = \"YOUR_PASSWORD\" # <-- your password\n",
    "DB_HOST = \"localhost\"\n",
    "DB_PORT = 3306\n",
    "DB_NAME = \"berlin_marathon\"\n",
    "\n",
    "engine = create_engine(\n",
    "    f\"mysql+pymysql://{DB_USER}:{DB_PASS}@{DB_HOST}:{DB_PORT}/{DB_NAME}\",\n",
    "    pool_pre_ping=True\n",
    ")\n",
    "\n",
    "# quick check\n",
    "with engine.connect() as con:\n",
    "    print(\"Connected:\", con.execute(text(\"SELECT 1\")).scalar() == 1)\n"
   ]
  },
  {
   "cell_type": "code",
   "execution_count": null,
   "id": "2cbb81c8-20d9-46d9-84eb-406b750e8b26",
   "metadata": {},
   "outputs": [],
   "source": []
  }
 ],
 "metadata": {
  "kernelspec": {
   "display_name": "Python 3 (ipykernel)",
   "language": "python",
   "name": "python3"
  },
  "language_info": {
   "codemirror_mode": {
    "name": "ipython",
    "version": 3
   },
   "file_extension": ".py",
   "mimetype": "text/x-python",
   "name": "python",
   "nbconvert_exporter": "python",
   "pygments_lexer": "ipython3",
   "version": "3.13.5"
  }
 },
 "nbformat": 4,
 "nbformat_minor": 5
}
