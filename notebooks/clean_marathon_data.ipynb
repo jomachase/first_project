{
 "cells": [
  {
   "cell_type": "code",
   "execution_count": null,
   "id": "01f57ebd-c405-4bd2-bbb8-66dc4e8ed340",
   "metadata": {},
   "outputs": [],
   "source": [
    "import os, sys\n",
    "sys.path.append(os.path.abspath(\"..\"))\n",
    "\n",
    "from src.functions import (\n",
    "    load_config, read_csv_from_config,\n",
    "    normalize_columns, clean_runners_pipeline,\n",
    "    drop_empty_columns, fill_missing_with_unknown, standardize_text_column,\n",
    "    print_shape\n",
    ")\n",
    "\n",
    "# Load config.yaml\n",
    "config = load_config(\"../config.yaml\")\n",
    "\n",
    "# Load raw marathon dataset (adjust key name if needed)\n",
    "df = read_csv_from_config(config, \"marathon_data\")\n",
    "\n",
    "print_shape(df, \"Raw data\")\n",
    "df.head()\n"
   ]
  },
  {
   "cell_type": "code",
   "execution_count": null,
   "id": "41b0fe79-8755-409f-9c41-359eb22cc1a3",
   "metadata": {},
   "outputs": [],
   "source": [
    "import pandas as pd\n",
    "\n",
    "import yaml\n",
    "\n",
    "with open(\"../config.yaml\", \"r\", encoding=\"utf-8\") as f:\n",
    "    config = yaml.safe_load(f)\n",
    "\n",
    "config\n",
    "\n",
    "\n"
   ]
  },
  {
   "cell_type": "code",
   "execution_count": null,
   "id": "4b684cc4-2832-45f9-880c-cd765c46555c",
   "metadata": {},
   "outputs": [],
   "source": [
    "df = pd.read_csv(config[\"input_data\"][\"marathon_data\"], low_memory=False)\n",
    "print(\"Shape:\", df.shape)\n",
    "df.head()"
   ]
  },
  {
   "cell_type": "code",
   "execution_count": null,
   "id": "e8185ba8-91cb-45f5-88c1-35cba0f2b001",
   "metadata": {},
   "outputs": [],
   "source": [
    "# Step 3 — Normalize column names to snake_case\n",
    "before = df.columns.tolist()\n",
    "\n",
    "df.columns = (\n",
    "    df.columns\n",
    "      .str.strip()                # remove leading/trailing spaces\n",
    "      .str.lower()                # lower case\n",
    "      .str.replace(' ', '_')      # spaces -> underscores\n",
    "      .str.replace(r'[^a-z0-9_]', '', regex=True)  # drop weird chars\n",
    ")\n",
    "\n",
    "print(\"Before:\", before)\n",
    "print(\"After: \", df.columns.tolist())\n",
    "df.head()\n"
   ]
  },
  {
   "cell_type": "code",
   "execution_count": null,
   "id": "83b5078c-372c-473a-95d1-bb7eaea500cb",
   "metadata": {},
   "outputs": [],
   "source": [
    "# Step 4 — Check missing values\n",
    "nulls = df.isna().sum()\n",
    "print(\"Missing values per column:\\n\", nulls)\n",
    "\n",
    "nulls_percent = (df.isna().mean() * 100).round(2)\n",
    "print(\"\\nPercentage of missing values per column:\\n\", nulls_percent)\n"
   ]
  },
  {
   "cell_type": "code",
   "execution_count": null,
   "id": "cad1fdfc-8c9a-4149-966f-0e5c136e3666",
   "metadata": {},
   "outputs": [],
   "source": [
    "# Step 5 – Clean 'country' and drop 'age'\n",
    "\n",
    "print(\"Columns BEFORE:\", list(df.columns))\n",
    "\n",
    "# 1) Drop 'country' if present\n",
    "df = df.drop(columns=['country'], errors='ignore')\n",
    "print(\"Column 'country' removed (if present) \")\n",
    "\n",
    "# 2) Drop 'age' if present\n",
    "df = df.drop(columns=['age'], errors='ignore')\n",
    "print(\"Column 'age' removed (if present) \")\n",
    "\n",
    "print(\"Columns AFTER:\", list(df.columns))\n",
    "df.head()\n",
    "\n"
   ]
  },
  {
   "cell_type": "code",
   "execution_count": null,
   "id": "87fb29ca-ccfe-4eff-afcc-62da2426a4ff",
   "metadata": {},
   "outputs": [],
   "source": [
    "print(\"Columnas actuales:\", list(df.columns))"
   ]
  },
  {
   "cell_type": "code",
   "execution_count": null,
   "id": "78aceb0c-3f66-4f27-836e-decb5741e291",
   "metadata": {},
   "outputs": [],
   "source": [
    "# Step 7 — Clean 'GENDER'\n",
    "\n",
    "if \"GENDER\" in df.columns:\n",
    "    print(\"Unique values before:\", df[\"GENDER\"].unique())\n",
    "\n",
    "    df[\"GENDER\"] = (\n",
    "        df[\"GENDER\"].astype(str).str.lower().str.strip()\n",
    "        .map({\"m\":\"male\", \"male\":\"male\", \n",
    "              \"f\":\"female\", \"female\":\"female\"})\n",
    "        .fillna(\"unknown\")\n",
    "    )\n",
    "\n",
    "    print(\"Unique values after:\", df[\"GENDER\"].unique())\n",
    "    print(df[\"GENDER\"].value_counts())\n"
   ]
  },
  {
   "cell_type": "code",
   "execution_count": null,
   "id": "dc670478-9500-4585-a218-5d99015ba787",
   "metadata": {},
   "outputs": [],
   "source": [
    "# Step 8 — Parse TIME to duration and seconds\n",
    "\n",
    "# 1) elegir la columna de tiempo (respeta mayúsculas)\n",
    "time_col = \"TIME\" if \"TIME\" in df.columns else [c for c in df.columns if \"time\" in c.lower()][0]\n",
    "print(\"Usando columna de tiempo:\", time_col)\n",
    "\n",
    "# 2) convert to timedelta (NaT if value is bad)\n",
    "df[\"finish_time\"] = pd.to_timedelta(df[time_col], errors=\"coerce\")\n",
    "\n",
    "# 3) create seconds (float)\n",
    "df[\"finish_seconds\"] = df[\"finish_time\"].dt.total_seconds()\n",
    "\n",
    "# 4) quick verification\n",
    "print(\"NaT en finish_time:\", df[\"finish_time\"].isna().sum())\n",
    "df[[time_col, \"finish_time\", \"finish_seconds\"]].head()\n"
   ]
  },
  {
   "cell_type": "code",
   "execution_count": null,
   "id": "5182b943-2e38-4fe3-aef3-652bb4ec7d54",
   "metadata": {},
   "outputs": [],
   "source": [
    "# Save cleaned & wrangled dataset\n",
    "output_path = config[\"output_data\"][\"cleaned_data\"]\n",
    "df.to_csv(output_path, index=False)\n",
    "\n",
    "print(\"Dataset saved to:\", output_path)\n",
    "print(\"Final shape:\", df.shape)\n"
   ]
  },
  {
   "cell_type": "code",
   "execution_count": null,
   "id": "a00e80f1-eeab-45ab-84fc-8e97aafc4860",
   "metadata": {},
   "outputs": [],
   "source": [
    "from pathlib import Path \n",
    "csv = Path(\"../data/clean/cleaned_marathon.csv\")\n",
    "print(csv)\n",
    "print(csv.exists())"
   ]
  },
  {
   "cell_type": "code",
   "execution_count": null,
   "id": "3835e021-cf75-4769-a6bd-b7020037004d",
   "metadata": {},
   "outputs": [],
   "source": [
    "from pathlib import Path\n",
    "csv = Path(\"../data/clean/cleaned_marathon.csv\").resolve()\n",
    "print(csv.as_posix())   # absolute path with forward slashes\n"
   ]
  }
 ],
 "metadata": {
  "kernelspec": {
   "display_name": "venv",
   "language": "python",
   "name": "venv"
  },
  "language_info": {
   "codemirror_mode": {
    "name": "ipython",
    "version": 3
   },
   "file_extension": ".py",
   "mimetype": "text/x-python",
   "name": "python",
   "nbconvert_exporter": "python",
   "pygments_lexer": "ipython3",
   "version": "3.13.5"
  }
 },
 "nbformat": 4,
 "nbformat_minor": 5
}
