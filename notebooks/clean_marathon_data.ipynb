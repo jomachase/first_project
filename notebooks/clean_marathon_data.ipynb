{
 "cells": [
  {
   "cell_type": "code",
   "execution_count": 10,
   "id": "41b0fe79-8755-409f-9c41-359eb22cc1a3",
   "metadata": {},
   "outputs": [
    {
     "data": {
      "text/plain": [
       "{'input_data': {'marathon_data': '../data/raw/Berlin_Marathon_data_1974_2019.csv',\n",
       "  'marathon_winners': '../data/raw/berlin_marathon_winners_1974_2024.csv'},\n",
       " 'output_data': {'cleaned_data': '../data/clean/cleaned_marathon.csv',\n",
       "  'cleaned_winners': '../data/clean/cleaned_marathon_winners.csv'}}"
      ]
     },
     "execution_count": 10,
     "metadata": {},
     "output_type": "execute_result"
    }
   ],
   "source": [
    "import pandas as pd\n",
    "\n",
    "import yaml\n",
    "\n",
    "with open(\"../config.yaml\", \"r\", encoding=\"utf-8\") as f:\n",
    "    config = yaml.safe_load(f)\n",
    "\n",
    "config\n",
    "\n",
    "\n"
   ]
  },
  {
   "cell_type": "code",
   "execution_count": 11,
   "id": "4b684cc4-2832-45f9-880c-cd765c46555c",
   "metadata": {},
   "outputs": [
    {
     "name": "stdout",
     "output_type": "stream",
     "text": [
      "Shape: (884944, 5)\n"
     ]
    },
    {
     "data": {
      "text/html": [
       "<div>\n",
       "<style scoped>\n",
       "    .dataframe tbody tr th:only-of-type {\n",
       "        vertical-align: middle;\n",
       "    }\n",
       "\n",
       "    .dataframe tbody tr th {\n",
       "        vertical-align: top;\n",
       "    }\n",
       "\n",
       "    .dataframe thead th {\n",
       "        text-align: right;\n",
       "    }\n",
       "</style>\n",
       "<table border=\"1\" class=\"dataframe\">\n",
       "  <thead>\n",
       "    <tr style=\"text-align: right;\">\n",
       "      <th></th>\n",
       "      <th>YEAR</th>\n",
       "      <th>COUNTRY</th>\n",
       "      <th>GENDER</th>\n",
       "      <th>AGE</th>\n",
       "      <th>TIME</th>\n",
       "    </tr>\n",
       "  </thead>\n",
       "  <tbody>\n",
       "    <tr>\n",
       "      <th>0</th>\n",
       "      <td>1974</td>\n",
       "      <td>NaN</td>\n",
       "      <td>male</td>\n",
       "      <td>L1</td>\n",
       "      <td>02:44:53</td>\n",
       "    </tr>\n",
       "    <tr>\n",
       "      <th>1</th>\n",
       "      <td>1974</td>\n",
       "      <td>NaN</td>\n",
       "      <td>male</td>\n",
       "      <td>L2</td>\n",
       "      <td>02:46:43</td>\n",
       "    </tr>\n",
       "    <tr>\n",
       "      <th>2</th>\n",
       "      <td>1974</td>\n",
       "      <td>NaN</td>\n",
       "      <td>male</td>\n",
       "      <td>L2</td>\n",
       "      <td>02:48:08</td>\n",
       "    </tr>\n",
       "    <tr>\n",
       "      <th>3</th>\n",
       "      <td>1974</td>\n",
       "      <td>NaN</td>\n",
       "      <td>male</td>\n",
       "      <td>L</td>\n",
       "      <td>02:48:40</td>\n",
       "    </tr>\n",
       "    <tr>\n",
       "      <th>4</th>\n",
       "      <td>1974</td>\n",
       "      <td>NaN</td>\n",
       "      <td>male</td>\n",
       "      <td>L1</td>\n",
       "      <td>02:49:01</td>\n",
       "    </tr>\n",
       "  </tbody>\n",
       "</table>\n",
       "</div>"
      ],
      "text/plain": [
       "   YEAR COUNTRY GENDER AGE      TIME\n",
       "0  1974     NaN   male  L1  02:44:53\n",
       "1  1974     NaN   male  L2  02:46:43\n",
       "2  1974     NaN   male  L2  02:48:08\n",
       "3  1974     NaN   male   L  02:48:40\n",
       "4  1974     NaN   male  L1  02:49:01"
      ]
     },
     "execution_count": 11,
     "metadata": {},
     "output_type": "execute_result"
    }
   ],
   "source": [
    "df = pd.read_csv(config[\"input_data\"][\"marathon_data\"], low_memory=False)\n",
    "print(\"Shape:\", df.shape)\n",
    "df.head()"
   ]
  },
  {
   "cell_type": "code",
   "execution_count": 12,
   "id": "e8185ba8-91cb-45f5-88c1-35cba0f2b001",
   "metadata": {},
   "outputs": [
    {
     "name": "stdout",
     "output_type": "stream",
     "text": [
      "Before: ['YEAR', 'COUNTRY', 'GENDER', 'AGE', 'TIME']\n",
      "After:  ['year', 'country', 'gender', 'age', 'time']\n"
     ]
    },
    {
     "data": {
      "text/html": [
       "<div>\n",
       "<style scoped>\n",
       "    .dataframe tbody tr th:only-of-type {\n",
       "        vertical-align: middle;\n",
       "    }\n",
       "\n",
       "    .dataframe tbody tr th {\n",
       "        vertical-align: top;\n",
       "    }\n",
       "\n",
       "    .dataframe thead th {\n",
       "        text-align: right;\n",
       "    }\n",
       "</style>\n",
       "<table border=\"1\" class=\"dataframe\">\n",
       "  <thead>\n",
       "    <tr style=\"text-align: right;\">\n",
       "      <th></th>\n",
       "      <th>year</th>\n",
       "      <th>country</th>\n",
       "      <th>gender</th>\n",
       "      <th>age</th>\n",
       "      <th>time</th>\n",
       "    </tr>\n",
       "  </thead>\n",
       "  <tbody>\n",
       "    <tr>\n",
       "      <th>0</th>\n",
       "      <td>1974</td>\n",
       "      <td>NaN</td>\n",
       "      <td>male</td>\n",
       "      <td>L1</td>\n",
       "      <td>02:44:53</td>\n",
       "    </tr>\n",
       "    <tr>\n",
       "      <th>1</th>\n",
       "      <td>1974</td>\n",
       "      <td>NaN</td>\n",
       "      <td>male</td>\n",
       "      <td>L2</td>\n",
       "      <td>02:46:43</td>\n",
       "    </tr>\n",
       "    <tr>\n",
       "      <th>2</th>\n",
       "      <td>1974</td>\n",
       "      <td>NaN</td>\n",
       "      <td>male</td>\n",
       "      <td>L2</td>\n",
       "      <td>02:48:08</td>\n",
       "    </tr>\n",
       "    <tr>\n",
       "      <th>3</th>\n",
       "      <td>1974</td>\n",
       "      <td>NaN</td>\n",
       "      <td>male</td>\n",
       "      <td>L</td>\n",
       "      <td>02:48:40</td>\n",
       "    </tr>\n",
       "    <tr>\n",
       "      <th>4</th>\n",
       "      <td>1974</td>\n",
       "      <td>NaN</td>\n",
       "      <td>male</td>\n",
       "      <td>L1</td>\n",
       "      <td>02:49:01</td>\n",
       "    </tr>\n",
       "  </tbody>\n",
       "</table>\n",
       "</div>"
      ],
      "text/plain": [
       "   year country gender age      time\n",
       "0  1974     NaN   male  L1  02:44:53\n",
       "1  1974     NaN   male  L2  02:46:43\n",
       "2  1974     NaN   male  L2  02:48:08\n",
       "3  1974     NaN   male   L  02:48:40\n",
       "4  1974     NaN   male  L1  02:49:01"
      ]
     },
     "execution_count": 12,
     "metadata": {},
     "output_type": "execute_result"
    }
   ],
   "source": [
    "# Step 3 — Normalize column names to snake_case\n",
    "before = df.columns.tolist()\n",
    "\n",
    "df.columns = (\n",
    "    df.columns\n",
    "      .str.strip()                # remove leading/trailing spaces\n",
    "      .str.lower()                # lower case\n",
    "      .str.replace(' ', '_')      # spaces -> underscores\n",
    "      .str.replace(r'[^a-z0-9_]', '', regex=True)  # drop weird chars\n",
    ")\n",
    "\n",
    "print(\"Before:\", before)\n",
    "print(\"After: \", df.columns.tolist())\n",
    "df.head()\n"
   ]
  },
  {
   "cell_type": "code",
   "execution_count": 13,
   "id": "83b5078c-372c-473a-95d1-bb7eaea500cb",
   "metadata": {},
   "outputs": [
    {
     "name": "stdout",
     "output_type": "stream",
     "text": [
      "Missing values per column:\n",
      " year            0\n",
      "country    854148\n",
      "gender          0\n",
      "age         12838\n",
      "time            0\n",
      "dtype: int64\n",
      "\n",
      "Percentage of missing values per column:\n",
      " year        0.00\n",
      "country    96.52\n",
      "gender      0.00\n",
      "age         1.45\n",
      "time        0.00\n",
      "dtype: float64\n"
     ]
    }
   ],
   "source": [
    "# Step 4 — Check missing values\n",
    "nulls = df.isna().sum()\n",
    "print(\"Missing values per column:\\n\", nulls)\n",
    "\n",
    "nulls_percent = (df.isna().mean() * 100).round(2)\n",
    "print(\"\\nPercentage of missing values per column:\\n\", nulls_percent)\n"
   ]
  },
  {
   "cell_type": "code",
   "execution_count": 14,
   "id": "cad1fdfc-8c9a-4149-966f-0e5c136e3666",
   "metadata": {},
   "outputs": [
    {
     "name": "stdout",
     "output_type": "stream",
     "text": [
      "Columns BEFORE: ['year', 'country', 'gender', 'age', 'time']\n",
      "Column 'country' removed (if present) \n",
      "Column 'age' removed (if present) \n",
      "Columns AFTER: ['year', 'gender', 'time']\n"
     ]
    },
    {
     "data": {
      "text/html": [
       "<div>\n",
       "<style scoped>\n",
       "    .dataframe tbody tr th:only-of-type {\n",
       "        vertical-align: middle;\n",
       "    }\n",
       "\n",
       "    .dataframe tbody tr th {\n",
       "        vertical-align: top;\n",
       "    }\n",
       "\n",
       "    .dataframe thead th {\n",
       "        text-align: right;\n",
       "    }\n",
       "</style>\n",
       "<table border=\"1\" class=\"dataframe\">\n",
       "  <thead>\n",
       "    <tr style=\"text-align: right;\">\n",
       "      <th></th>\n",
       "      <th>year</th>\n",
       "      <th>gender</th>\n",
       "      <th>time</th>\n",
       "    </tr>\n",
       "  </thead>\n",
       "  <tbody>\n",
       "    <tr>\n",
       "      <th>0</th>\n",
       "      <td>1974</td>\n",
       "      <td>male</td>\n",
       "      <td>02:44:53</td>\n",
       "    </tr>\n",
       "    <tr>\n",
       "      <th>1</th>\n",
       "      <td>1974</td>\n",
       "      <td>male</td>\n",
       "      <td>02:46:43</td>\n",
       "    </tr>\n",
       "    <tr>\n",
       "      <th>2</th>\n",
       "      <td>1974</td>\n",
       "      <td>male</td>\n",
       "      <td>02:48:08</td>\n",
       "    </tr>\n",
       "    <tr>\n",
       "      <th>3</th>\n",
       "      <td>1974</td>\n",
       "      <td>male</td>\n",
       "      <td>02:48:40</td>\n",
       "    </tr>\n",
       "    <tr>\n",
       "      <th>4</th>\n",
       "      <td>1974</td>\n",
       "      <td>male</td>\n",
       "      <td>02:49:01</td>\n",
       "    </tr>\n",
       "  </tbody>\n",
       "</table>\n",
       "</div>"
      ],
      "text/plain": [
       "   year gender      time\n",
       "0  1974   male  02:44:53\n",
       "1  1974   male  02:46:43\n",
       "2  1974   male  02:48:08\n",
       "3  1974   male  02:48:40\n",
       "4  1974   male  02:49:01"
      ]
     },
     "execution_count": 14,
     "metadata": {},
     "output_type": "execute_result"
    }
   ],
   "source": [
    "# Step 5 – Clean 'country' and drop 'age'\n",
    "\n",
    "print(\"Columns BEFORE:\", list(df.columns))\n",
    "\n",
    "# 1) Drop 'country' if present\n",
    "df = df.drop(columns=['country'], errors='ignore')\n",
    "print(\"Column 'country' removed (if present) \")\n",
    "\n",
    "# 2) Drop 'age' if present\n",
    "df = df.drop(columns=['age'], errors='ignore')\n",
    "print(\"Column 'age' removed (if present) \")\n",
    "\n",
    "print(\"Columns AFTER:\", list(df.columns))\n",
    "df.head()\n",
    "\n"
   ]
  },
  {
   "cell_type": "code",
   "execution_count": 15,
   "id": "87fb29ca-ccfe-4eff-afcc-62da2426a4ff",
   "metadata": {},
   "outputs": [
    {
     "name": "stdout",
     "output_type": "stream",
     "text": [
      "Columnas actuales: ['year', 'gender', 'time']\n"
     ]
    }
   ],
   "source": [
    "print(\"Columnas actuales:\", list(df.columns))"
   ]
  },
  {
   "cell_type": "code",
   "execution_count": 16,
   "id": "78aceb0c-3f66-4f27-836e-decb5741e291",
   "metadata": {},
   "outputs": [],
   "source": [
    "# Step 7 — Clean 'GENDER'\n",
    "\n",
    "if \"GENDER\" in df.columns:\n",
    "    print(\"Unique values before:\", df[\"GENDER\"].unique())\n",
    "\n",
    "    df[\"GENDER\"] = (\n",
    "        df[\"GENDER\"].astype(str).str.lower().str.strip()\n",
    "        .map({\"m\":\"male\", \"male\":\"male\", \n",
    "              \"f\":\"female\", \"female\":\"female\"})\n",
    "        .fillna(\"unknown\")\n",
    "    )\n",
    "\n",
    "    print(\"Unique values after:\", df[\"GENDER\"].unique())\n",
    "    print(df[\"GENDER\"].value_counts())\n"
   ]
  },
  {
   "cell_type": "code",
   "execution_count": 17,
   "id": "dc670478-9500-4585-a218-5d99015ba787",
   "metadata": {},
   "outputs": [
    {
     "name": "stdout",
     "output_type": "stream",
     "text": [
      "Usando columna de tiempo: time\n",
      "NaT en finish_time: 2405\n"
     ]
    },
    {
     "data": {
      "text/html": [
       "<div>\n",
       "<style scoped>\n",
       "    .dataframe tbody tr th:only-of-type {\n",
       "        vertical-align: middle;\n",
       "    }\n",
       "\n",
       "    .dataframe tbody tr th {\n",
       "        vertical-align: top;\n",
       "    }\n",
       "\n",
       "    .dataframe thead th {\n",
       "        text-align: right;\n",
       "    }\n",
       "</style>\n",
       "<table border=\"1\" class=\"dataframe\">\n",
       "  <thead>\n",
       "    <tr style=\"text-align: right;\">\n",
       "      <th></th>\n",
       "      <th>time</th>\n",
       "      <th>finish_time</th>\n",
       "      <th>finish_seconds</th>\n",
       "    </tr>\n",
       "  </thead>\n",
       "  <tbody>\n",
       "    <tr>\n",
       "      <th>0</th>\n",
       "      <td>02:44:53</td>\n",
       "      <td>0 days 02:44:53</td>\n",
       "      <td>9893.0</td>\n",
       "    </tr>\n",
       "    <tr>\n",
       "      <th>1</th>\n",
       "      <td>02:46:43</td>\n",
       "      <td>0 days 02:46:43</td>\n",
       "      <td>10003.0</td>\n",
       "    </tr>\n",
       "    <tr>\n",
       "      <th>2</th>\n",
       "      <td>02:48:08</td>\n",
       "      <td>0 days 02:48:08</td>\n",
       "      <td>10088.0</td>\n",
       "    </tr>\n",
       "    <tr>\n",
       "      <th>3</th>\n",
       "      <td>02:48:40</td>\n",
       "      <td>0 days 02:48:40</td>\n",
       "      <td>10120.0</td>\n",
       "    </tr>\n",
       "    <tr>\n",
       "      <th>4</th>\n",
       "      <td>02:49:01</td>\n",
       "      <td>0 days 02:49:01</td>\n",
       "      <td>10141.0</td>\n",
       "    </tr>\n",
       "  </tbody>\n",
       "</table>\n",
       "</div>"
      ],
      "text/plain": [
       "       time     finish_time  finish_seconds\n",
       "0  02:44:53 0 days 02:44:53          9893.0\n",
       "1  02:46:43 0 days 02:46:43         10003.0\n",
       "2  02:48:08 0 days 02:48:08         10088.0\n",
       "3  02:48:40 0 days 02:48:40         10120.0\n",
       "4  02:49:01 0 days 02:49:01         10141.0"
      ]
     },
     "execution_count": 17,
     "metadata": {},
     "output_type": "execute_result"
    }
   ],
   "source": [
    "# Step 8 — Parse TIME to duration and seconds\n",
    "\n",
    "# 1) elegir la columna de tiempo (respeta mayúsculas)\n",
    "time_col = \"TIME\" if \"TIME\" in df.columns else [c for c in df.columns if \"time\" in c.lower()][0]\n",
    "print(\"Usando columna de tiempo:\", time_col)\n",
    "\n",
    "# 2) convert to timedelta (NaT if value is bad)\n",
    "df[\"finish_time\"] = pd.to_timedelta(df[time_col], errors=\"coerce\")\n",
    "\n",
    "# 3) create seconds (float)\n",
    "df[\"finish_seconds\"] = df[\"finish_time\"].dt.total_seconds()\n",
    "\n",
    "# 4) quick verification\n",
    "print(\"NaT en finish_time:\", df[\"finish_time\"].isna().sum())\n",
    "df[[time_col, \"finish_time\", \"finish_seconds\"]].head()\n"
   ]
  },
  {
   "cell_type": "code",
   "execution_count": 19,
   "id": "5182b943-2e38-4fe3-aef3-652bb4ec7d54",
   "metadata": {},
   "outputs": [
    {
     "name": "stdout",
     "output_type": "stream",
     "text": [
      "Dataset saved to: ../data/clean/cleaned_marathon.csv\n",
      "Final shape: (884944, 5)\n"
     ]
    }
   ],
   "source": [
    "# Save cleaned & wrangled dataset\n",
    "output_path = config[\"output_data\"][\"cleaned_data\"]\n",
    "df.to_csv(output_path, index=False)\n",
    "\n",
    "print(\"Dataset saved to:\", output_path)\n",
    "print(\"Final shape:\", df.shape)\n"
   ]
  },
  {
   "cell_type": "code",
   "execution_count": null,
   "id": "a00e80f1-eeab-45ab-84fc-8e97aafc4860",
   "metadata": {},
   "outputs": [],
   "source": []
  }
 ],
 "metadata": {
  "kernelspec": {
   "display_name": "venv",
   "language": "python",
   "name": "venv"
  },
  "language_info": {
   "codemirror_mode": {
    "name": "ipython",
    "version": 3
   },
   "file_extension": ".py",
   "mimetype": "text/x-python",
   "name": "python",
   "nbconvert_exporter": "python",
   "pygments_lexer": "ipython3",
   "version": "3.13.5"
  }
 },
 "nbformat": 4,
 "nbformat_minor": 5
}
