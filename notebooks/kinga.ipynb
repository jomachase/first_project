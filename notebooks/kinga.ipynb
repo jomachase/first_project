{
 "cells": [
  {
   "cell_type": "code",
   "execution_count": null,
   "id": "af8e044b-77e1-4cb9-8c84-070b2d2194e3",
   "metadata": {},
   "outputs": [],
   "source": [
    "import pandas as pd "
   ]
  },
  {
   "cell_type": "code",
   "execution_count": null,
   "id": "da9c2f9f-916d-42dd-b33a-107760036861",
   "metadata": {},
   "outputs": [],
   "source": [
    "import yaml "
   ]
  },
  {
   "cell_type": "code",
   "execution_count": null,
   "id": "d9aa709a-2fce-4829-9ea7-f89fb5b29eff",
   "metadata": {},
   "outputs": [],
   "source": [
    "try : \n",
    "    with open (\"../config.yaml\", \"r\") as file:\n",
    "        config=yaml.safe_load(file)\n",
    "except :\n",
    "    print(\"File is not found.\")"
   ]
  },
  {
   "cell_type": "code",
   "execution_count": null,
   "id": "211432d5-7b10-47ca-a809-f785f320698b",
   "metadata": {},
   "outputs": [],
   "source": [
    "config\n"
   ]
  },
  {
   "cell_type": "code",
   "execution_count": null,
   "id": "7ad0d960-c3ca-4b5b-a23f-01d12a1dc15e",
   "metadata": {},
   "outputs": [],
   "source": [
    "file_path = config['input_data']['file']\n",
    "\n",
    "df = pd.read_csv(\n",
    "    file_path, low_memory=False,\n",
    "    dtype={\n",
    "        \"ColumnName1\": str,   # force text\n",
    "        \"ColumnName3\": float  # force numeric\n",
    "    }\n",
    ")"
   ]
  },
  {
   "cell_type": "code",
   "execution_count": null,
   "id": "405d5c4f-a448-410b-a8b0-305cb8cc56d0",
   "metadata": {},
   "outputs": [],
   "source": [
    "df"
   ]
  },
  {
   "cell_type": "code",
   "execution_count": null,
   "id": "78f177ac-8fa1-4902-8be7-acfa69a369b6",
   "metadata": {},
   "outputs": [],
   "source": [
    "year_unique = df['YEAR'].unique()\n",
    "year_unique"
   ]
  },
  {
   "cell_type": "code",
   "execution_count": null,
   "id": "96b5dbd9-cbad-48b9-bc28-dd6ba799da30",
   "metadata": {},
   "outputs": [],
   "source": [
    "country_unique = df['COUNTRY'].unique()\n",
    "country_unique"
   ]
  },
  {
   "cell_type": "code",
   "execution_count": null,
   "id": "31430c08-2dfc-4e51-8938-aa24cdd8b3e5",
   "metadata": {},
   "outputs": [],
   "source": [
    "gender_unique = df['GENDER'].unique()\n",
    "gender_unique"
   ]
  },
  {
   "cell_type": "code",
   "execution_count": null,
   "id": "04c09cc1-52b4-4cac-ba74-51836345d39e",
   "metadata": {},
   "outputs": [],
   "source": [
    "age_unique = df['AGE'].unique()\n",
    "age_unique"
   ]
  },
  {
   "cell_type": "code",
   "execution_count": null,
   "id": "51493605-a9ed-4968-b089-c223dc725eb1",
   "metadata": {},
   "outputs": [],
   "source": [
    "# Percentage of null values per column\n",
    "\n",
    "null_percentage = (df.isnull().sum() / len(df)) * 100\n",
    "\n",
    "print(null_percentage)"
   ]
  },
  {
   "cell_type": "code",
   "execution_count": null,
   "id": "f395f2c4-981d-4a3c-b076-78feb5b7c174",
   "metadata": {},
   "outputs": [],
   "source": [
    "print(df.dtypes)"
   ]
  },
  {
   "cell_type": "code",
   "execution_count": null,
   "id": "b4349550-d728-4823-a50c-744b21a3ddb4",
   "metadata": {},
   "outputs": [],
   "source": [
    "# Convert to timedelta\n",
    "\n",
    "import numpy as np\n"
   ]
  },
  {
   "cell_type": "code",
   "execution_count": null,
   "id": "418576bd-1332-4f91-a8cd-6d3f1f3deb01",
   "metadata": {},
   "outputs": [],
   "source": [
    "#df['TIME'] = pd.to_timedelta(df['TIME'])\n",
    "\n",
    "#print(df)\n",
    "#print(df.dtypes)\n",
    "\n",
    "# gave an error saying: ValueError: Could not convert 'no time' to NumPy timedelta\n",
    "# delet all the rows with 'no time' "
   ]
  }
 ],
 "metadata": {
  "kernelspec": {
   "display_name": "venv",
   "language": "python",
   "name": "venv"
  },
  "language_info": {
   "codemirror_mode": {
    "name": "ipython",
    "version": 3
   },
   "file_extension": ".py",
   "mimetype": "text/x-python",
   "name": "python",
   "nbconvert_exporter": "python",
   "pygments_lexer": "ipython3",
   "version": "3.11.5"
  }
 },
 "nbformat": 4,
 "nbformat_minor": 5
}
