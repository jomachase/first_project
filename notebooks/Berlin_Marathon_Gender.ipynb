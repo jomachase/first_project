{
 "cells": [
  {
   "cell_type": "code",
   "execution_count": 1,
   "id": "5c2bfc4b-5931-4e92-a592-7a49365fd3ee",
   "metadata": {},
   "outputs": [],
   "source": [
    "import pandas as pd"
   ]
  },
  {
   "cell_type": "code",
   "execution_count": 2,
   "id": "572255f0-eb1d-4e1d-9df7-03217b3f43e2",
   "metadata": {},
   "outputs": [
    {
     "name": "stderr",
     "output_type": "stream",
     "text": [
      "/var/folders/2n/vdp8fcl915n4gbp1vcj_4vgw0000gp/T/ipykernel_3053/1237159803.py:1: DtypeWarning: Columns (1,3) have mixed types. Specify dtype option on import or set low_memory=False.\n",
      "  df = pd.read_csv(\"/Users/jomachase/Documents/Ironhack/Miniproject/MiniProject4/first_project/data/raw/Berlin_Marathon_data_1974_2019.csv\")\n"
     ]
    },
    {
     "data": {
      "text/html": [
       "<div>\n",
       "<style scoped>\n",
       "    .dataframe tbody tr th:only-of-type {\n",
       "        vertical-align: middle;\n",
       "    }\n",
       "\n",
       "    .dataframe tbody tr th {\n",
       "        vertical-align: top;\n",
       "    }\n",
       "\n",
       "    .dataframe thead th {\n",
       "        text-align: right;\n",
       "    }\n",
       "</style>\n",
       "<table border=\"1\" class=\"dataframe\">\n",
       "  <thead>\n",
       "    <tr style=\"text-align: right;\">\n",
       "      <th></th>\n",
       "      <th>YEAR</th>\n",
       "      <th>COUNTRY</th>\n",
       "      <th>GENDER</th>\n",
       "      <th>AGE</th>\n",
       "      <th>TIME</th>\n",
       "    </tr>\n",
       "  </thead>\n",
       "  <tbody>\n",
       "    <tr>\n",
       "      <th>0</th>\n",
       "      <td>1974</td>\n",
       "      <td>NaN</td>\n",
       "      <td>male</td>\n",
       "      <td>L1</td>\n",
       "      <td>02:44:53</td>\n",
       "    </tr>\n",
       "    <tr>\n",
       "      <th>1</th>\n",
       "      <td>1974</td>\n",
       "      <td>NaN</td>\n",
       "      <td>male</td>\n",
       "      <td>L2</td>\n",
       "      <td>02:46:43</td>\n",
       "    </tr>\n",
       "    <tr>\n",
       "      <th>2</th>\n",
       "      <td>1974</td>\n",
       "      <td>NaN</td>\n",
       "      <td>male</td>\n",
       "      <td>L2</td>\n",
       "      <td>02:48:08</td>\n",
       "    </tr>\n",
       "    <tr>\n",
       "      <th>3</th>\n",
       "      <td>1974</td>\n",
       "      <td>NaN</td>\n",
       "      <td>male</td>\n",
       "      <td>L</td>\n",
       "      <td>02:48:40</td>\n",
       "    </tr>\n",
       "    <tr>\n",
       "      <th>4</th>\n",
       "      <td>1974</td>\n",
       "      <td>NaN</td>\n",
       "      <td>male</td>\n",
       "      <td>L1</td>\n",
       "      <td>02:49:01</td>\n",
       "    </tr>\n",
       "    <tr>\n",
       "      <th>...</th>\n",
       "      <td>...</td>\n",
       "      <td>...</td>\n",
       "      <td>...</td>\n",
       "      <td>...</td>\n",
       "      <td>...</td>\n",
       "    </tr>\n",
       "    <tr>\n",
       "      <th>884939</th>\n",
       "      <td>2019</td>\n",
       "      <td>GER</td>\n",
       "      <td>male</td>\n",
       "      <td>65.0</td>\n",
       "      <td>07:12:17</td>\n",
       "    </tr>\n",
       "    <tr>\n",
       "      <th>884940</th>\n",
       "      <td>2019</td>\n",
       "      <td>GER</td>\n",
       "      <td>male</td>\n",
       "      <td>75.0</td>\n",
       "      <td>07:12:30</td>\n",
       "    </tr>\n",
       "    <tr>\n",
       "      <th>884941</th>\n",
       "      <td>2019</td>\n",
       "      <td>GER</td>\n",
       "      <td>male</td>\n",
       "      <td>80.0</td>\n",
       "      <td>07:15:28</td>\n",
       "    </tr>\n",
       "    <tr>\n",
       "      <th>884942</th>\n",
       "      <td>2019</td>\n",
       "      <td>USA</td>\n",
       "      <td>male</td>\n",
       "      <td>30.0</td>\n",
       "      <td>07:19:28</td>\n",
       "    </tr>\n",
       "    <tr>\n",
       "      <th>884943</th>\n",
       "      <td>2019</td>\n",
       "      <td>GER</td>\n",
       "      <td>male</td>\n",
       "      <td>60.0</td>\n",
       "      <td>07:26:09</td>\n",
       "    </tr>\n",
       "  </tbody>\n",
       "</table>\n",
       "<p>884944 rows × 5 columns</p>\n",
       "</div>"
      ],
      "text/plain": [
       "        YEAR COUNTRY GENDER   AGE      TIME\n",
       "0       1974     NaN   male    L1  02:44:53\n",
       "1       1974     NaN   male    L2  02:46:43\n",
       "2       1974     NaN   male    L2  02:48:08\n",
       "3       1974     NaN   male     L  02:48:40\n",
       "4       1974     NaN   male    L1  02:49:01\n",
       "...      ...     ...    ...   ...       ...\n",
       "884939  2019     GER   male  65.0  07:12:17\n",
       "884940  2019     GER   male  75.0  07:12:30\n",
       "884941  2019     GER   male  80.0  07:15:28\n",
       "884942  2019     USA   male  30.0  07:19:28\n",
       "884943  2019     GER   male  60.0  07:26:09\n",
       "\n",
       "[884944 rows x 5 columns]"
      ]
     },
     "execution_count": 2,
     "metadata": {},
     "output_type": "execute_result"
    }
   ],
   "source": [
    "df = pd.read_csv(\"/Users/jomachase/Documents/Ironhack/Miniproject/MiniProject4/first_project/data/raw/Berlin_Marathon_data_1974_2019.csv\")\n",
    "df"
   ]
  },
  {
   "cell_type": "code",
   "execution_count": 26,
   "id": "db8aae2f-f83b-4987-a088-9d1ae45d2a4e",
   "metadata": {},
   "outputs": [
    {
     "data": {
      "text/plain": [
       "0         1974\n",
       "155       1974\n",
       "156       1974\n",
       "157       1974\n",
       "158       1974\n",
       "          ... \n",
       "864405    2019\n",
       "864404    2019\n",
       "864403    2019\n",
       "864491    2019\n",
       "884943    2019\n",
       "Name: YEAR, Length: 884944, dtype: int64"
      ]
     },
     "execution_count": 26,
     "metadata": {},
     "output_type": "execute_result"
    }
   ],
   "source": [
    "df[\"YEAR\"].sort_values()"
   ]
  },
  {
   "cell_type": "code",
   "execution_count": 3,
   "id": "94f82267-f2cd-40ab-b104-7acc3c216bd9",
   "metadata": {},
   "outputs": [
    {
     "ename": "NameError",
     "evalue": "name 'df' is not defined",
     "output_type": "error",
     "traceback": [
      "\u001b[31m---------------------------------------------------------------------------\u001b[39m",
      "\u001b[31mNameError\u001b[39m                                 Traceback (most recent call last)",
      "\u001b[36mCell\u001b[39m\u001b[36m \u001b[39m\u001b[32mIn[3]\u001b[39m\u001b[32m, line 1\u001b[39m\n\u001b[32m----> \u001b[39m\u001b[32m1\u001b[39m male = \u001b[43mdf\u001b[49m[df[\u001b[33m'\u001b[39m\u001b[33mGENDER\u001b[39m\u001b[33m'\u001b[39m] == \u001b[33m'\u001b[39m\u001b[33mmale\u001b[39m\u001b[33m'\u001b[39m]\n\u001b[32m      2\u001b[39m best_row = male.sort_values(\u001b[33m'\u001b[39m\u001b[33mTIME\u001b[39m\u001b[33m'\u001b[39m).head(\u001b[32m1\u001b[39m)\n\u001b[32m      3\u001b[39m best_row[[\u001b[33m'\u001b[39m\u001b[33mYEAR\u001b[39m\u001b[33m'\u001b[39m, \u001b[33m'\u001b[39m\u001b[33mCOUNTRY\u001b[39m\u001b[33m'\u001b[39m, \u001b[33m'\u001b[39m\u001b[33mTIME\u001b[39m\u001b[33m'\u001b[39m]]\n",
      "\u001b[31mNameError\u001b[39m: name 'df' is not defined"
     ]
    }
   ],
   "source": [
    "best_row = male.sort_values('TIME').head(1)\n",
    "best_row[['YEAR', 'COUNTRY', 'TIME']]"
   ]
  },
  {
   "cell_type": "code",
   "execution_count": null,
   "id": "a58a0b83-6a6c-43e3-9a0a-400b8b65daad",
   "metadata": {},
   "outputs": [],
   "source": []
  }
 ],
 "metadata": {
  "kernelspec": {
   "display_name": "ironhack",
   "language": "python",
   "name": "ironhack"
  },
  "language_info": {
   "codemirror_mode": {
    "name": "ipython",
    "version": 3
   },
   "file_extension": ".py",
   "mimetype": "text/x-python",
   "name": "python",
   "nbconvert_exporter": "python",
   "pygments_lexer": "ipython3",
   "version": "3.13.7"
  }
 },
 "nbformat": 4,
 "nbformat_minor": 5
}
