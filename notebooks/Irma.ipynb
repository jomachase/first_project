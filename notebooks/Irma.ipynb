{
 "cells": [
  {
   "cell_type": "code",
   "execution_count": null,
   "id": "dac71f05-63a9-49dd-b63b-edd99238c41b",
   "metadata": {},
   "outputs": [],
   "source": [
    "import pandas as pd\n",
    "import yaml\n",
    "\n",
    "# cargar config.yaml\n",
    "with open(\"../config.yaml\", \"r\") as f:\n",
    "    config = yaml.safe_load(f)\n",
    "\n",
    "# leer cada archivo\n",
    "df_data = pd.read_csv(config[\"input_data\"][\"marathon_data\"], low_memory=False)\n",
    "df_winners = pd.read_csv(config[\"input_data\"][\"marathon_winners\"], low_memory=False)\n",
    "\n",
    "# verificar\n",
    "print(\"Data shape:\", df_data.shape)\n",
    "print(\"Winners shape:\", df_winners.shape)\n",
    "\n"
   ]
  },
  {
   "cell_type": "code",
   "execution_count": null,
   "id": "6bb8372c-19eb-476d-bace-c4f585f4837b",
   "metadata": {},
   "outputs": [],
   "source": [
    "with open(\"../config.yaml\", \"r\") as f:\n",
    "    config = yaml.safe_load(f)\n",
    "\n",
    "df = pd.read_csv(config[\"input_data\"][\"marathon_data\"],low_memory=False)\n",
    "df"
   ]
  },
  {
   "cell_type": "code",
   "execution_count": null,
   "id": "6fa44fac-9883-47cb-9806-907f54315616",
   "metadata": {},
   "outputs": [],
   "source": [
    "with open(\"../config.yaml\", \"r\") as f:\n",
    "    config = yaml.safe_load(f)\n",
    "\n",
    "df = pd.read_csv(config[\"input_data\"][\"marathon_winners\"],low_memory=False)\n",
    "df.head()\n"
   ]
  },
  {
   "cell_type": "code",
   "execution_count": null,
   "id": "ccb39c35-bed6-4f18-aa0c-7216ed7ec209",
   "metadata": {},
   "outputs": [],
   "source": []
  },
  {
   "cell_type": "code",
   "execution_count": null,
   "id": "ad24302d-bb27-441f-a893-5eee64d52a9a",
   "metadata": {},
   "outputs": [],
   "source": []
  }
 ],
 "metadata": {
  "kernelspec": {
   "display_name": "venv",
   "language": "python",
   "name": "venv"
  },
  "language_info": {
   "codemirror_mode": {
    "name": "ipython",
    "version": 3
   },
   "file_extension": ".py",
   "mimetype": "text/x-python",
   "name": "python",
   "nbconvert_exporter": "python",
   "pygments_lexer": "ipython3",
   "version": "3.13.5"
  }
 },
 "nbformat": 4,
 "nbformat_minor": 5
}
