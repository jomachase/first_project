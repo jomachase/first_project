{
 "cells": [
  {
   "cell_type": "code",
   "execution_count": null,
   "id": "b8fa4509-80d2-41ee-aa14-b375a29e0019",
   "metadata": {
    "jupyter": {
     "source_hidden": true
    }
   },
   "outputs": [],
   "source": [
    "import os, sys\n",
    "\n",
    "sys.path.insert(0, os.path.abspath(\"notebooks\"))\n",
    "\n",
    "from functions import load_config, read_csv_from_config, print_shape\n",
    "\n",
    "# 2) Automatically detect the path to config.yaml\n",
    "cfg_path = \"config.yaml\" if os.path.exists(\"config.yaml\") else \"../config.yaml\"\n",
    "config = load_config(cfg_path)\n",
    "\n",
    "# 3) Load datasets defined in config.yaml\n",
    "df_data = read_csv_from_config(config, \"marathon_data\", low_memory=False)\n",
    "df_winners = read_csv_from_config(config, \"marathon_winners\", low_memory=False)\n",
    "\n",
    "# 4) Verify\n",
    "print_shape(df_data, \"Data\")\n",
    "print_shape(df_winners, \"Winners\")\n",
    "\n"
   ]
  },
  {
   "cell_type": "code",
   "execution_count": null,
   "id": "6bb8372c-19eb-476d-bace-c4f585f4837b",
   "metadata": {},
   "outputs": [],
   "source": [
    "import pandas as pd\n",
    "import yaml\n",
    "with open(\"../config.yaml\", \"r\") as f:\n",
    "    config = yaml.safe_load(f)\n",
    "\n",
    "df = pd.read_csv(config[\"input_data\"][\"marathon_data\"],low_memory=False)\n",
    "df"
   ]
  },
  {
   "cell_type": "code",
   "execution_count": null,
   "id": "6fa44fac-9883-47cb-9806-907f54315616",
   "metadata": {},
   "outputs": [],
   "source": [
    "with open(\"../config.yaml\", \"r\") as f:\n",
    "    config = yaml.safe_load(f)\n",
    "\n",
    "df = pd.read_csv(config[\"input_data\"][\"marathon_winners\"],low_memory=False)\n",
    "df.head()\n"
   ]
  },
  {
   "cell_type": "code",
   "execution_count": null,
   "id": "56b416f9-1f3c-4276-8add-0e780f875425",
   "metadata": {},
   "outputs": [],
   "source": []
  }
 ],
 "metadata": {
  "kernelspec": {
   "display_name": "venv",
   "language": "python",
   "name": "venv"
  },
  "language_info": {
   "codemirror_mode": {
    "name": "ipython",
    "version": 3
   },
   "file_extension": ".py",
   "mimetype": "text/x-python",
   "name": "python",
   "nbconvert_exporter": "python",
   "pygments_lexer": "ipython3",
   "version": "3.13.5"
  }
 },
 "nbformat": 4,
 "nbformat_minor": 5
}
