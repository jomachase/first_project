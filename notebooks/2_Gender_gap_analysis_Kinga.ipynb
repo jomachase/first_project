{
 "cells": [
  {
   "cell_type": "code",
   "execution_count": null,
   "id": "c43aaf45-024d-49dd-b4c1-04d1880e110e",
   "metadata": {},
   "outputs": [],
   "source": [
    "#Gender gap - KINGA\n",
    "#What is the time difference between male and female winners?\n",
    "#Has the gender gap decreased over the years"
   ]
  },
  {
   "cell_type": "code",
   "execution_count": null,
   "id": "b71c7578-dc6d-4080-87a8-8b0137118111",
   "metadata": {},
   "outputs": [],
   "source": [
    "import pandas as pd "
   ]
  },
  {
   "cell_type": "code",
   "execution_count": null,
   "id": "8bbe0f1d-58d1-451e-944a-4a88d6a88e5f",
   "metadata": {},
   "outputs": [],
   "source": [
    "import yaml"
   ]
  },
  {
   "cell_type": "code",
   "execution_count": null,
   "id": "f5cce4d2-a734-4a70-8bd9-488685cb9152",
   "metadata": {},
   "outputs": [],
   "source": [
    "try : \n",
    "    with open (\"../config.yaml\", \"r\") as file:\n",
    "        config=yaml.safe_load(file)\n",
    "except :\n",
    "    print(\"File is not found.\")"
   ]
  },
  {
   "cell_type": "code",
   "execution_count": null,
   "id": "bd98ee9e-7c20-4c68-b18e-a6ff9039455f",
   "metadata": {},
   "outputs": [],
   "source": [
    "config"
   ]
  },
  {
   "cell_type": "code",
   "execution_count": null,
   "id": "40a998c3-79ea-4682-b289-464040d7a959",
   "metadata": {},
   "outputs": [],
   "source": [
    "file_path = config['output_data']['cleaned_winners']\n",
    "\n",
    "df = pd.read_csv(file_path)"
   ]
  },
  {
   "cell_type": "code",
   "execution_count": null,
   "id": "93029b43-d749-4ac1-8882-5120c3310cef",
   "metadata": {},
   "outputs": [],
   "source": [
    "df"
   ]
  },
  {
   "cell_type": "code",
   "execution_count": null,
   "id": "3de1cd49-994f-4817-8f93-6b694836cf1d",
   "metadata": {},
   "outputs": [],
   "source": [
    "#What is the time difference between male and female winners?"
   ]
  },
  {
   "cell_type": "code",
   "execution_count": null,
   "id": "f096676a-93f1-4023-b293-e40878a6923f",
   "metadata": {},
   "outputs": [],
   "source": [
    "# Convert string column to timedelta\n",
    "df[\"time\"] = pd.to_timedelta(df[\"time\"])"
   ]
  },
  {
   "cell_type": "code",
   "execution_count": null,
   "id": "3dcf9516-b2ce-4592-a8d7-6c59694c26ec",
   "metadata": {},
   "outputs": [],
   "source": [
    "df"
   ]
  },
  {
   "cell_type": "code",
   "execution_count": null,
   "id": "ed9db70c-aa14-4997-9c62-2fed5c76fcee",
   "metadata": {},
   "outputs": [],
   "source": [
    "# Pivot so male/female times become columns\n",
    "pivot = df.pivot(index=\"year\", columns=\"gender\", values=\"time\")\n"
   ]
  },
  {
   "cell_type": "code",
   "execution_count": null,
   "id": "4ab51658-a66a-475c-a18b-c62dcc03d408",
   "metadata": {},
   "outputs": [],
   "source": [
    "pivot"
   ]
  },
  {
   "cell_type": "code",
   "execution_count": null,
   "id": "8798cbbb-dc7d-475e-ac8d-fe421f8144b1",
   "metadata": {},
   "outputs": [],
   "source": [
    "# Compute difference (female - male)\n",
    "pivot[\"gender_gap_calc\"] = pivot[\"female\"] - pivot[\"male\"]"
   ]
  },
  {
   "cell_type": "code",
   "execution_count": null,
   "id": "72e6d363-dec5-447e-84dd-b7856985c016",
   "metadata": {},
   "outputs": [],
   "source": [
    "pivot.reset_index()"
   ]
  },
  {
   "cell_type": "code",
   "execution_count": null,
   "id": "4321b22f-76eb-465a-97d9-da5b2b24a233",
   "metadata": {},
   "outputs": [],
   "source": [
    "# Display version (HH:MM:SS only, no \"days\")\n",
    "pivot[\"gender_gap\"] = (\n",
    "    pivot[\"gender_gap_calc\"].dt.total_seconds()\n",
    "    .apply(lambda x: f\"{int(x//3600):02d}:{int((x%3600)//60):02d}:{int(x%60):02d}\")\n",
    ")"
   ]
  },
  {
   "cell_type": "code",
   "execution_count": null,
   "id": "f3dbedf0-672e-4f1b-bc06-30439cdde1a5",
   "metadata": {},
   "outputs": [],
   "source": [
    "pivot"
   ]
  },
  {
   "cell_type": "code",
   "execution_count": null,
   "id": "5fb001de-8282-4335-ad0e-c3776e7d9ac2",
   "metadata": {},
   "outputs": [],
   "source": [
    "import matplotlib.pyplot as plt"
   ]
  },
  {
   "cell_type": "code",
   "execution_count": null,
   "id": "9ac7bb95-c232-44d3-81ba-560886e540d0",
   "metadata": {
    "scrolled": true
   },
   "outputs": [],
   "source": [
    "# Plot the gender gap trend\n",
    "plt.figure(figsize=(12,12))\n",
    "plt.plot(pivot.index, pivot[\"gender_gap\"], marker='o', color=\"crimson\")\n",
    "plt.title(\"Has the Gender Gap Decreased Over the Years?\")\n",
    "plt.xlabel(\"Year\")\n",
    "plt.ylabel(\"Time (HH:MM:SS)\")\n",
    "plt.grid(True)\n",
    "plt.tight_layout()\n",
    "plt.legend(title=\"Time difference between scores of female and male winner\", loc=\"upper left\", fontsize=10, shadow=True)\n",
    "plt.show()"
   ]
  },
  {
   "cell_type": "code",
   "execution_count": null,
   "id": "5ccad34d-b844-432a-a7b6-ec5f03ba88ed",
   "metadata": {},
   "outputs": [],
   "source": [
    "plt.savefig(\"../figures/2_Gender_gap_analysis.png\")"
   ]
  }
 ],
 "metadata": {
  "kernelspec": {
   "display_name": "venv",
   "language": "python",
   "name": "venv"
  },
  "language_info": {
   "codemirror_mode": {
    "name": "ipython",
    "version": 3
   },
   "file_extension": ".py",
   "mimetype": "text/x-python",
   "name": "python",
   "nbconvert_exporter": "python",
   "pygments_lexer": "ipython3",
   "version": "3.11.5"
  }
 },
 "nbformat": 4,
 "nbformat_minor": 5
}
