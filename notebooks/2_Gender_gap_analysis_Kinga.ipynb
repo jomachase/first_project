{
 "cells": [
  {
   "cell_type": "code",
   "execution_count": null,
   "id": "c43aaf45-024d-49dd-b4c1-04d1880e110e",
   "metadata": {},
   "outputs": [],
   "source": [
    "#Gender gap - KINGA\n",
    "#What is the time difference between male and female winners?\n",
    "#Has the gender gap decreased over the years"
   ]
  },
  {
   "cell_type": "code",
   "execution_count": null,
   "id": "b71c7578-dc6d-4080-87a8-8b0137118111",
   "metadata": {},
   "outputs": [],
   "source": [
    "#import pandas as pd "
   ]
  },
  {
   "cell_type": "code",
   "execution_count": null,
   "id": "8bbe0f1d-58d1-451e-944a-4a88d6a88e5f",
   "metadata": {},
   "outputs": [],
   "source": [
    "#import yaml"
   ]
  },
  {
   "cell_type": "code",
   "execution_count": null,
   "id": "f5cce4d2-a734-4a70-8bd9-488685cb9152",
   "metadata": {},
   "outputs": [],
   "source": [
    "#try : \n",
    "    with open (\"../config.yaml\", \"r\") as file:\n",
    "        config=yaml.safe_load(file)\n",
    "except :\n",
    "    print(\"File is not found.\")"
   ]
  },
  {
   "cell_type": "code",
   "execution_count": null,
   "id": "bd98ee9e-7c20-4c68-b18e-a6ff9039455f",
   "metadata": {},
   "outputs": [],
   "source": [
    "#config"
   ]
  },
  {
   "cell_type": "code",
   "execution_count": null,
   "id": "40a998c3-79ea-4682-b289-464040d7a959",
   "metadata": {},
   "outputs": [],
   "source": [
    "#file_path = config['output_data']['file']\n",
    "\n",
    "#df = pd.read_csv(\n",
    "    file_path, low_memory=False,\n",
    "    dtype={\n",
    "        \"ColumnName1\": str,   # force text\n",
    "        \"ColumnName3\": float  # force numeric\n",
    "    }\n",
    ")"
   ]
  },
  {
   "cell_type": "code",
   "execution_count": null,
   "id": "93029b43-d749-4ac1-8882-5120c3310cef",
   "metadata": {},
   "outputs": [],
   "source": [
    "#df"
   ]
  },
  {
   "cell_type": "code",
   "execution_count": null,
   "id": "3de1cd49-994f-4817-8f93-6b694836cf1d",
   "metadata": {},
   "outputs": [],
   "source": [
    "#What is the time difference between male and female winners?"
   ]
  },
  {
   "cell_type": "code",
   "execution_count": null,
   "id": "bf19afff-79d8-4032-a040-c95e17feea50",
   "metadata": {},
   "outputs": [],
   "source": [
    "#SQL\n",
    "\n",
    "#SELECT \n",
    "    #year,\n",
    "    #MAX(CASE WHEN gender = 'male' THEN winner_time END) \n",
    "        #- MAX(CASE WHEN gender = 'female' THEN winner_time END) \n",
    "        #AS time_difference\n",
    "#FROM results\n",
    "#GROUP BY year\n",
    "#ORDER BY year;"
   ]
  },
  {
   "cell_type": "code",
   "execution_count": null,
   "id": "ed9db70c-aa14-4997-9c62-2fed5c76fcee",
   "metadata": {},
   "outputs": [],
   "source": [
    "# Pivot so male/female times become columns\n",
    "#pivot = df.pivot(index=\"year\", columns=\"gender\", values=\"winner_time\")\n",
    "\n",
    "# Compute difference (male - female)\n",
    "#pivot[\"time_difference\"] = pivot[\"male\"] - pivot[\"female\"]\n",
    "\n",
    "#print(pivot.reset_index())"
   ]
  },
  {
   "cell_type": "code",
   "execution_count": null,
   "id": "94844809-039c-40e5-8af6-232b3739bb10",
   "metadata": {},
   "outputs": [],
   "source": [
    "#import matplotlib.pyplot as plt\n",
    "\n",
    "plt.figure(figsize=(8,5))\n",
    "plt.plot(pivot.index, pivot[\"male\"], marker='o', label=\"Male winners\")\n",
    "plt.plot(pivot.index, pivot[\"female\"], marker='o', label=\"Female winners\")\n",
    "plt.bar(pivot.index, pivot[\"time_difference\"], alpha=0.3, label=\"Time difference (male - female)\")\n",
    "\n",
    "plt.title(\"Marathon Winner Times by Gender\")\n",
    "plt.xlabel(\"Year\")\n",
    "plt.ylabel(\"Winner Time (minutes) / Difference\")\n",
    "plt.legend()\n",
    "plt.grid(True)\n",
    "plt.tight_layout()\n",
    "plt.show()"
   ]
  },
  {
   "cell_type": "code",
   "execution_count": null,
   "id": "8ea5bfd5-3c4f-4d03-85f9-4f5af58c89cd",
   "metadata": {},
   "outputs": [],
   "source": [
    "#import seaborn as sns\n",
    "\n",
    "plt.figure(figsize=(8,5))\n",
    "sns.lineplot(data=pivot, x=pivot.index, y=\"male\", marker=\"o\", label=\"Male winners\")\n",
    "sns.lineplot(data=pivot, x=pivot.index, y=\"female\", marker=\"o\", label=\"Female winners\")\n",
    "sns.barplot(x=pivot.index, y=pivot[\"time_difference\"], alpha=0.3, color=\"gray\")\n",
    "\n",
    "plt.title(\"Marathon Winner Times by Gender\")\n",
    "plt.xlabel(\"Year\")\n",
    "plt.ylabel(\"Winner Time (minutes)\")\n",
    "plt.legend()\n",
    "plt.show()"
   ]
  },
  {
   "cell_type": "code",
   "execution_count": null,
   "id": "2fbbe849-5ffb-4711-99c2-c039390adb68",
   "metadata": {},
   "outputs": [],
   "source": [
    "import plotly.graph_objects as go\n",
    "\n",
    "fig = go.Figure()\n",
    "fig.add_trace(go.Scatter(x=pivot.index, y=pivot[\"male\"], mode='lines+markers', name='Male winners'))\n",
    "fig.add_trace(go.Scatter(x=pivot.index, y=pivot[\"female\"], mode='lines+markers', name='Female winners'))\n",
    "fig.add_trace(go.Bar(x=pivot.index, y=pivot[\"time_difference\"], name='Time difference (male - female)', opacity=0.4))\n",
    "\n",
    "fig.update_layout(\n",
    "    title=\"Marathon Winner Times by Gender\",\n",
    "    xaxis_title=\"Year\",\n",
    "    yaxis_title=\"Winner Time (minutes) / Difference\",\n",
    "    template=\"plotly_white\"\n",
    ")\n",
    "\n",
    "fig.show()"
   ]
  },
  {
   "cell_type": "code",
   "execution_count": null,
   "id": "4d68066c-4154-4ba8-87a8-4d975fa179ad",
   "metadata": {},
   "outputs": [],
   "source": [
    "#Has the gender gap decreased over the years"
   ]
  },
  {
   "cell_type": "code",
   "execution_count": null,
   "id": "7f225f22-eeb2-4c24-a2a6-f80e5dc34c0e",
   "metadata": {},
   "outputs": [],
   "source": [
    "#import pandas as pd\n",
    "#import matplotlib.pyplot as plt"
   ]
  },
  {
   "cell_type": "code",
   "execution_count": null,
   "id": "9ac7bb95-c232-44d3-81ba-560886e540d0",
   "metadata": {},
   "outputs": [],
   "source": [
    "# Pivot male/female\n",
    "pivot = df.pivot(index=\"year\", columns=\"gender\", values=\"winner_time\")\n",
    "\n",
    "# Calculate gender gap (female - male)\n",
    "pivot[\"gender_gap\"] = pivot[\"female\"] - pivot[\"male\"]\n",
    "\n",
    "print(pivot)\n",
    "\n",
    "# Plot the gender gap trend\n",
    "plt.figure(figsize=(8,5))\n",
    "plt.plot(pivot.index, pivot[\"gender_gap\"], marker='o', color=\"crimson\")\n",
    "plt.title(\"Has the Gender Gap Decreased Over the Years?\")\n",
    "plt.xlabel(\"Year\")\n",
    "plt.ylabel(\"Gender Gap (minutes, female - male)\")\n",
    "plt.grid(True)\n",
    "plt.tight_layout()\n",
    "plt.show()"
   ]
  },
  {
   "cell_type": "code",
   "execution_count": null,
   "id": "5ccad34d-b844-432a-a7b6-ec5f03ba88ed",
   "metadata": {},
   "outputs": [],
   "source": []
  }
 ],
 "metadata": {
  "kernelspec": {
   "display_name": "venv",
   "language": "python",
   "name": "venv"
  },
  "language_info": {
   "codemirror_mode": {
    "name": "ipython",
    "version": 3
   },
   "file_extension": ".py",
   "mimetype": "text/x-python",
   "name": "python",
   "nbconvert_exporter": "python",
   "pygments_lexer": "ipython3",
   "version": "3.13.5"
  }
 },
 "nbformat": 4,
 "nbformat_minor": 5
}
